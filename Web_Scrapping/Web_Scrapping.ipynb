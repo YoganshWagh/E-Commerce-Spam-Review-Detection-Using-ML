{
 "cells": [
  {
   "cell_type": "code",
   "execution_count": 5,
   "id": "8b0981dd",
   "metadata": {},
   "outputs": [
    {
     "name": "stdout",
     "output_type": "stream",
     "text": [
      "Reviews scraped and saved to amazon_reviews.csv\n"
     ]
    }
   ],
   "source": [
    "import requests\n",
    "from bs4 import BeautifulSoup\n",
    "import csv\n",
    "\n",
    "def scrape_reviews(url):\n",
    "    headers = {\n",
    "        \"User-Agent\": \"Mozilla/5.0 (Windows NT 10.0; Win64; x64) AppleWebKit/537.36 (KHTML, like Gecko) Chrome/58.0.3029.110 Safari/537.3\"}\n",
    "    response = requests.get(url, headers=headers)\n",
    "    soup = BeautifulSoup(response.content, 'html.parser')\n",
    "\n",
    "    reviews = []\n",
    "    review_elements = soup.find_all('div', class_='a-section review aok-relative')\n",
    "\n",
    "    for review in review_elements:\n",
    "        try:\n",
    "            review_body = review.find('span', class_='a-size-base review-text review-text-content').text.strip()\n",
    "            reviews.append([review_body])\n",
    "        except AttributeError:\n",
    "            pass\n",
    "    \n",
    "    return reviews\n",
    "\n",
    "def save_to_csv(reviews, filename):\n",
    "    with open(filename, 'w', newline='', encoding='utf-8') as csvfile:\n",
    "        csv_writer = csv.writer(csvfile)\n",
    "        csv_writer.writerow(['Review'])\n",
    "        csv_writer.writerows(reviews)\n",
    "\n",
    "if __name__ == \"__main__\":\n",
    "    url = 'https://www.amazon.in/Red-Tape-Sneaker-Cushion-Slip-Resistance/product-reviews/B0C9HVN6CC/ref=cm_cr_dp_d_show_all_btm?ie=UTF8&reviewerType=all_reviews'\n",
    "    reviews = scrape_reviews(url)\n",
    "    save_to_csv(reviews, 'amazon_reviews.csv')\n",
    "    print(\"Reviews scraped and saved to amazon_reviews.csv\")\n"
   ]
  },
  {
   "cell_type": "code",
   "execution_count": null,
   "id": "0a8c509c",
   "metadata": {},
   "outputs": [],
   "source": []
  }
 ],
 "metadata": {
  "kernelspec": {
   "display_name": "Python 3 (ipykernel)",
   "language": "python",
   "name": "python3"
  },
  "language_info": {
   "codemirror_mode": {
    "name": "ipython",
    "version": 3
   },
   "file_extension": ".py",
   "mimetype": "text/x-python",
   "name": "python",
   "nbconvert_exporter": "python",
   "pygments_lexer": "ipython3",
   "version": "3.10.9"
  }
 },
 "nbformat": 4,
 "nbformat_minor": 5
}
