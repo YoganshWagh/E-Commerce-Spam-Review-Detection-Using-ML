{
 "cells": [
  {
   "cell_type": "code",
   "execution_count": 1,
   "id": "b4cc5d33",
   "metadata": {},
   "outputs": [],
   "source": [
    "import pandas as pd\n",
    "from sklearn.model_selection import train_test_split\n",
    "from sklearn.feature_extraction.text import TfidfVectorizer\n",
    "from sklearn.ensemble import RandomForestClassifier\n",
    "from sklearn.metrics import accuracy_score, classification_report"
   ]
  },
  {
   "cell_type": "code",
   "execution_count": 2,
   "id": "bd36af91",
   "metadata": {},
   "outputs": [],
   "source": [
    "df = pd.read_csv('dataset.csv')\n"
   ]
  },
  {
   "cell_type": "code",
   "execution_count": 3,
   "id": "b4dccfb4",
   "metadata": {},
   "outputs": [
    {
     "data": {
      "text/html": [
       "<div>\n",
       "<style scoped>\n",
       "    .dataframe tbody tr th:only-of-type {\n",
       "        vertical-align: middle;\n",
       "    }\n",
       "\n",
       "    .dataframe tbody tr th {\n",
       "        vertical-align: top;\n",
       "    }\n",
       "\n",
       "    .dataframe thead th {\n",
       "        text-align: right;\n",
       "    }\n",
       "</style>\n",
       "<table border=\"1\" class=\"dataframe\">\n",
       "  <thead>\n",
       "    <tr style=\"text-align: right;\">\n",
       "      <th></th>\n",
       "      <th>Unnamed: 0</th>\n",
       "      <th>category</th>\n",
       "      <th>rating</th>\n",
       "      <th>label</th>\n",
       "      <th>text_</th>\n",
       "    </tr>\n",
       "  </thead>\n",
       "  <tbody>\n",
       "    <tr>\n",
       "      <th>0</th>\n",
       "      <td>0</td>\n",
       "      <td>Home_and_Kitchen_5</td>\n",
       "      <td>5.0</td>\n",
       "      <td>CG</td>\n",
       "      <td>love well made sturdi comfort i love veri pretti</td>\n",
       "    </tr>\n",
       "    <tr>\n",
       "      <th>1</th>\n",
       "      <td>1</td>\n",
       "      <td>Home_and_Kitchen_5</td>\n",
       "      <td>5.0</td>\n",
       "      <td>CG</td>\n",
       "      <td>love great upgrad origin i 've mine coupl year</td>\n",
       "    </tr>\n",
       "    <tr>\n",
       "      <th>2</th>\n",
       "      <td>2</td>\n",
       "      <td>Home_and_Kitchen_5</td>\n",
       "      <td>5.0</td>\n",
       "      <td>CG</td>\n",
       "      <td>thi pillow save back i love look feel pillow</td>\n",
       "    </tr>\n",
       "    <tr>\n",
       "      <th>3</th>\n",
       "      <td>3</td>\n",
       "      <td>Home_and_Kitchen_5</td>\n",
       "      <td>1.0</td>\n",
       "      <td>CG</td>\n",
       "      <td>miss inform use great product price i</td>\n",
       "    </tr>\n",
       "    <tr>\n",
       "      <th>4</th>\n",
       "      <td>4</td>\n",
       "      <td>Home_and_Kitchen_5</td>\n",
       "      <td>5.0</td>\n",
       "      <td>CG</td>\n",
       "      <td>veri nice set good qualiti we set two month</td>\n",
       "    </tr>\n",
       "    <tr>\n",
       "      <th>...</th>\n",
       "      <td>...</td>\n",
       "      <td>...</td>\n",
       "      <td>...</td>\n",
       "      <td>...</td>\n",
       "      <td>...</td>\n",
       "    </tr>\n",
       "    <tr>\n",
       "      <th>40427</th>\n",
       "      <td>40427</td>\n",
       "      <td>Clothing_Shoes_and_Jewelry_5</td>\n",
       "      <td>4.0</td>\n",
       "      <td>OR</td>\n",
       "      <td>i read review say bra ran small i order two ba...</td>\n",
       "    </tr>\n",
       "    <tr>\n",
       "      <th>40428</th>\n",
       "      <td>40428</td>\n",
       "      <td>Clothing_Shoes_and_Jewelry_5</td>\n",
       "      <td>5.0</td>\n",
       "      <td>CG</td>\n",
       "      <td>i n't sure exactli would it littl larg small s...</td>\n",
       "    </tr>\n",
       "    <tr>\n",
       "      <th>40429</th>\n",
       "      <td>40429</td>\n",
       "      <td>Clothing_Shoes_and_Jewelry_5</td>\n",
       "      <td>2.0</td>\n",
       "      <td>OR</td>\n",
       "      <td>you wear hood wear hood wear jacket without ho...</td>\n",
       "    </tr>\n",
       "    <tr>\n",
       "      <th>40430</th>\n",
       "      <td>40430</td>\n",
       "      <td>Clothing_Shoes_and_Jewelry_5</td>\n",
       "      <td>1.0</td>\n",
       "      <td>CG</td>\n",
       "      <td>i like noth dress the reason i gave star i ord...</td>\n",
       "    </tr>\n",
       "    <tr>\n",
       "      <th>40431</th>\n",
       "      <td>40431</td>\n",
       "      <td>Clothing_Shoes_and_Jewelry_5</td>\n",
       "      <td>5.0</td>\n",
       "      <td>OR</td>\n",
       "      <td>i work wed industri work long day foot outsid ...</td>\n",
       "    </tr>\n",
       "  </tbody>\n",
       "</table>\n",
       "<p>40432 rows × 5 columns</p>\n",
       "</div>"
      ],
      "text/plain": [
       "       Unnamed: 0                      category  rating label  \\\n",
       "0               0            Home_and_Kitchen_5     5.0    CG   \n",
       "1               1            Home_and_Kitchen_5     5.0    CG   \n",
       "2               2            Home_and_Kitchen_5     5.0    CG   \n",
       "3               3            Home_and_Kitchen_5     1.0    CG   \n",
       "4               4            Home_and_Kitchen_5     5.0    CG   \n",
       "...           ...                           ...     ...   ...   \n",
       "40427       40427  Clothing_Shoes_and_Jewelry_5     4.0    OR   \n",
       "40428       40428  Clothing_Shoes_and_Jewelry_5     5.0    CG   \n",
       "40429       40429  Clothing_Shoes_and_Jewelry_5     2.0    OR   \n",
       "40430       40430  Clothing_Shoes_and_Jewelry_5     1.0    CG   \n",
       "40431       40431  Clothing_Shoes_and_Jewelry_5     5.0    OR   \n",
       "\n",
       "                                                   text_  \n",
       "0       love well made sturdi comfort i love veri pretti  \n",
       "1         love great upgrad origin i 've mine coupl year  \n",
       "2           thi pillow save back i love look feel pillow  \n",
       "3                  miss inform use great product price i  \n",
       "4            veri nice set good qualiti we set two month  \n",
       "...                                                  ...  \n",
       "40427  i read review say bra ran small i order two ba...  \n",
       "40428  i n't sure exactli would it littl larg small s...  \n",
       "40429  you wear hood wear hood wear jacket without ho...  \n",
       "40430  i like noth dress the reason i gave star i ord...  \n",
       "40431  i work wed industri work long day foot outsid ...  \n",
       "\n",
       "[40432 rows x 5 columns]"
      ]
     },
     "execution_count": 3,
     "metadata": {},
     "output_type": "execute_result"
    }
   ],
   "source": [
    "df"
   ]
  },
  {
   "cell_type": "markdown",
   "id": "0229e4b7",
   "metadata": {},
   "source": [
    "## STEPS FOR PROJECT COMPLETION:\n",
    "1. Data Cleaning\n",
    "2. EDA\n",
    "3. Text Preprocessing\n",
    "4. Model Building\n",
    "5. Evaluation\n",
    "6. Improvements\n",
    "7. Website \n",
    "8. Deploy"
   ]
  },
  {
   "cell_type": "markdown",
   "id": "7fc2d369",
   "metadata": {},
   "source": [
    "## 1. Data Cleaning"
   ]
  },
  {
   "cell_type": "code",
   "execution_count": 4,
   "id": "aa183971",
   "metadata": {},
   "outputs": [
    {
     "name": "stdout",
     "output_type": "stream",
     "text": [
      "<class 'pandas.core.frame.DataFrame'>\n",
      "RangeIndex: 40432 entries, 0 to 40431\n",
      "Data columns (total 5 columns):\n",
      " #   Column      Non-Null Count  Dtype  \n",
      "---  ------      --------------  -----  \n",
      " 0   Unnamed: 0  40432 non-null  int64  \n",
      " 1   category    40432 non-null  object \n",
      " 2   rating      40432 non-null  float64\n",
      " 3   label       40432 non-null  object \n",
      " 4   text_       40431 non-null  object \n",
      "dtypes: float64(1), int64(1), object(3)\n",
      "memory usage: 1.5+ MB\n"
     ]
    }
   ],
   "source": [
    "df.info()"
   ]
  },
  {
   "cell_type": "code",
   "execution_count": 5,
   "id": "2a496440",
   "metadata": {},
   "outputs": [],
   "source": [
    "df.drop(columns =['Unnamed: 0','category','rating'], inplace = True)"
   ]
  },
  {
   "cell_type": "code",
   "execution_count": 6,
   "id": "31b27936",
   "metadata": {},
   "outputs": [
    {
     "data": {
      "text/html": [
       "<div>\n",
       "<style scoped>\n",
       "    .dataframe tbody tr th:only-of-type {\n",
       "        vertical-align: middle;\n",
       "    }\n",
       "\n",
       "    .dataframe tbody tr th {\n",
       "        vertical-align: top;\n",
       "    }\n",
       "\n",
       "    .dataframe thead th {\n",
       "        text-align: right;\n",
       "    }\n",
       "</style>\n",
       "<table border=\"1\" class=\"dataframe\">\n",
       "  <thead>\n",
       "    <tr style=\"text-align: right;\">\n",
       "      <th></th>\n",
       "      <th>label</th>\n",
       "      <th>text_</th>\n",
       "    </tr>\n",
       "  </thead>\n",
       "  <tbody>\n",
       "    <tr>\n",
       "      <th>0</th>\n",
       "      <td>CG</td>\n",
       "      <td>love well made sturdi comfort i love veri pretti</td>\n",
       "    </tr>\n",
       "    <tr>\n",
       "      <th>1</th>\n",
       "      <td>CG</td>\n",
       "      <td>love great upgrad origin i 've mine coupl year</td>\n",
       "    </tr>\n",
       "    <tr>\n",
       "      <th>2</th>\n",
       "      <td>CG</td>\n",
       "      <td>thi pillow save back i love look feel pillow</td>\n",
       "    </tr>\n",
       "    <tr>\n",
       "      <th>3</th>\n",
       "      <td>CG</td>\n",
       "      <td>miss inform use great product price i</td>\n",
       "    </tr>\n",
       "    <tr>\n",
       "      <th>4</th>\n",
       "      <td>CG</td>\n",
       "      <td>veri nice set good qualiti we set two month</td>\n",
       "    </tr>\n",
       "    <tr>\n",
       "      <th>...</th>\n",
       "      <td>...</td>\n",
       "      <td>...</td>\n",
       "    </tr>\n",
       "    <tr>\n",
       "      <th>40427</th>\n",
       "      <td>OR</td>\n",
       "      <td>i read review say bra ran small i order two ba...</td>\n",
       "    </tr>\n",
       "    <tr>\n",
       "      <th>40428</th>\n",
       "      <td>CG</td>\n",
       "      <td>i n't sure exactli would it littl larg small s...</td>\n",
       "    </tr>\n",
       "    <tr>\n",
       "      <th>40429</th>\n",
       "      <td>OR</td>\n",
       "      <td>you wear hood wear hood wear jacket without ho...</td>\n",
       "    </tr>\n",
       "    <tr>\n",
       "      <th>40430</th>\n",
       "      <td>CG</td>\n",
       "      <td>i like noth dress the reason i gave star i ord...</td>\n",
       "    </tr>\n",
       "    <tr>\n",
       "      <th>40431</th>\n",
       "      <td>OR</td>\n",
       "      <td>i work wed industri work long day foot outsid ...</td>\n",
       "    </tr>\n",
       "  </tbody>\n",
       "</table>\n",
       "<p>40432 rows × 2 columns</p>\n",
       "</div>"
      ],
      "text/plain": [
       "      label                                              text_\n",
       "0        CG   love well made sturdi comfort i love veri pretti\n",
       "1        CG     love great upgrad origin i 've mine coupl year\n",
       "2        CG       thi pillow save back i love look feel pillow\n",
       "3        CG              miss inform use great product price i\n",
       "4        CG        veri nice set good qualiti we set two month\n",
       "...     ...                                                ...\n",
       "40427    OR  i read review say bra ran small i order two ba...\n",
       "40428    CG  i n't sure exactli would it littl larg small s...\n",
       "40429    OR  you wear hood wear hood wear jacket without ho...\n",
       "40430    CG  i like noth dress the reason i gave star i ord...\n",
       "40431    OR  i work wed industri work long day foot outsid ...\n",
       "\n",
       "[40432 rows x 2 columns]"
      ]
     },
     "execution_count": 6,
     "metadata": {},
     "output_type": "execute_result"
    }
   ],
   "source": [
    "df"
   ]
  },
  {
   "cell_type": "code",
   "execution_count": 7,
   "id": "6026beeb",
   "metadata": {},
   "outputs": [],
   "source": [
    "df = df.dropna(subset=['text_', 'label'])"
   ]
  },
  {
   "cell_type": "code",
   "execution_count": 8,
   "id": "dcb622c8",
   "metadata": {},
   "outputs": [
    {
     "data": {
      "text/plain": [
       "label    0\n",
       "text_    0\n",
       "dtype: int64"
      ]
     },
     "execution_count": 8,
     "metadata": {},
     "output_type": "execute_result"
    }
   ],
   "source": [
    "df.isnull().sum()"
   ]
  },
  {
   "cell_type": "code",
   "execution_count": 9,
   "id": "6e0b9d43",
   "metadata": {},
   "outputs": [
    {
     "name": "stderr",
     "output_type": "stream",
     "text": [
      "C:\\Users\\dell\\AppData\\Local\\Temp\\ipykernel_4060\\1295578572.py:1: SettingWithCopyWarning: \n",
      "A value is trying to be set on a copy of a slice from a DataFrame\n",
      "\n",
      "See the caveats in the documentation: https://pandas.pydata.org/pandas-docs/stable/user_guide/indexing.html#returning-a-view-versus-a-copy\n",
      "  df.dropna(subset=['text_'], inplace=True)\n"
     ]
    }
   ],
   "source": [
    "df.dropna(subset=['text_'], inplace=True)"
   ]
  },
  {
   "cell_type": "code",
   "execution_count": 10,
   "id": "2c3ed36c",
   "metadata": {},
   "outputs": [
    {
     "data": {
      "text/plain": [
       "label    0\n",
       "text_    0\n",
       "dtype: int64"
      ]
     },
     "execution_count": 10,
     "metadata": {},
     "output_type": "execute_result"
    }
   ],
   "source": [
    "df.isnull().sum()"
   ]
  },
  {
   "cell_type": "code",
   "execution_count": 11,
   "id": "c0c5cddc",
   "metadata": {},
   "outputs": [
    {
     "data": {
      "text/plain": [
       "44"
      ]
     },
     "execution_count": 11,
     "metadata": {},
     "output_type": "execute_result"
    }
   ],
   "source": [
    "df.duplicated().sum()"
   ]
  },
  {
   "cell_type": "code",
   "execution_count": 12,
   "id": "704c39be",
   "metadata": {},
   "outputs": [],
   "source": [
    "df = df.drop_duplicates(keep='first')"
   ]
  },
  {
   "cell_type": "code",
   "execution_count": 13,
   "id": "e1dcbbfd",
   "metadata": {},
   "outputs": [],
   "source": [
    "X = df['text_']\n",
    "y = df['label']"
   ]
  },
  {
   "cell_type": "code",
   "execution_count": 14,
   "id": "d78d8bdb",
   "metadata": {},
   "outputs": [],
   "source": [
    "X_train, X_test, y_train, y_test = train_test_split(X, y, test_size=0.2, random_state=42)\n"
   ]
  },
  {
   "cell_type": "code",
   "execution_count": 15,
   "id": "500b346d",
   "metadata": {},
   "outputs": [],
   "source": [
    "df.rename(columns={'label':'Target', 'text_':'Review'}, inplace=True)"
   ]
  },
  {
   "cell_type": "code",
   "execution_count": 16,
   "id": "e01c906d",
   "metadata": {},
   "outputs": [],
   "source": [
    "from sklearn.preprocessing import LabelEncoder\n",
    "encoder = LabelEncoder()"
   ]
  },
  {
   "cell_type": "code",
   "execution_count": 17,
   "id": "c44e4ab7",
   "metadata": {},
   "outputs": [],
   "source": [
    "df['Target'] = encoder.fit_transform(df['Target'])"
   ]
  },
  {
   "cell_type": "code",
   "execution_count": 18,
   "id": "5c301adf",
   "metadata": {},
   "outputs": [
    {
     "data": {
      "text/html": [
       "<div>\n",
       "<style scoped>\n",
       "    .dataframe tbody tr th:only-of-type {\n",
       "        vertical-align: middle;\n",
       "    }\n",
       "\n",
       "    .dataframe tbody tr th {\n",
       "        vertical-align: top;\n",
       "    }\n",
       "\n",
       "    .dataframe thead th {\n",
       "        text-align: right;\n",
       "    }\n",
       "</style>\n",
       "<table border=\"1\" class=\"dataframe\">\n",
       "  <thead>\n",
       "    <tr style=\"text-align: right;\">\n",
       "      <th></th>\n",
       "      <th>Target</th>\n",
       "      <th>Review</th>\n",
       "    </tr>\n",
       "  </thead>\n",
       "  <tbody>\n",
       "    <tr>\n",
       "      <th>19064</th>\n",
       "      <td>1</td>\n",
       "      <td>i love led bulb today i took multimet measur c...</td>\n",
       "    </tr>\n",
       "    <tr>\n",
       "      <th>13062</th>\n",
       "      <td>0</td>\n",
       "      <td>wow anim good the stori slow there mani horrib...</td>\n",
       "    </tr>\n",
       "    <tr>\n",
       "      <th>25638</th>\n",
       "      <td>1</td>\n",
       "      <td>to go much im glad farrah prayer final answer ...</td>\n",
       "    </tr>\n",
       "    <tr>\n",
       "      <th>30997</th>\n",
       "      <td>1</td>\n",
       "      <td>thi i read book club i 'm sound great i first ...</td>\n",
       "    </tr>\n",
       "    <tr>\n",
       "      <th>9030</th>\n",
       "      <td>1</td>\n",
       "      <td>i may buy replac ear piec wear normal use our ...</td>\n",
       "    </tr>\n",
       "  </tbody>\n",
       "</table>\n",
       "</div>"
      ],
      "text/plain": [
       "       Target                                             Review\n",
       "19064       1  i love led bulb today i took multimet measur c...\n",
       "13062       0  wow anim good the stori slow there mani horrib...\n",
       "25638       1  to go much im glad farrah prayer final answer ...\n",
       "30997       1  thi i read book club i 'm sound great i first ...\n",
       "9030        1  i may buy replac ear piec wear normal use our ..."
      ]
     },
     "execution_count": 18,
     "metadata": {},
     "output_type": "execute_result"
    }
   ],
   "source": [
    "df.sample(5)"
   ]
  },
  {
   "cell_type": "code",
   "execution_count": 19,
   "id": "864decbc",
   "metadata": {},
   "outputs": [
    {
     "data": {
      "text/plain": [
       "<bound method NDFrame.head of        Target                                             Review\n",
       "0           0   love well made sturdi comfort i love veri pretti\n",
       "1           0     love great upgrad origin i 've mine coupl year\n",
       "2           0       thi pillow save back i love look feel pillow\n",
       "3           0              miss inform use great product price i\n",
       "4           0        veri nice set good qualiti we set two month\n",
       "...       ...                                                ...\n",
       "40427       1  i read review say bra ran small i order two ba...\n",
       "40428       0  i n't sure exactli would it littl larg small s...\n",
       "40429       1  you wear hood wear hood wear jacket without ho...\n",
       "40430       0  i like noth dress the reason i gave star i ord...\n",
       "40431       1  i work wed industri work long day foot outsid ...\n",
       "\n",
       "[40387 rows x 2 columns]>"
      ]
     },
     "execution_count": 19,
     "metadata": {},
     "output_type": "execute_result"
    }
   ],
   "source": [
    "df.head"
   ]
  },
  {
   "cell_type": "markdown",
   "id": "ebf58a8a",
   "metadata": {},
   "source": [
    "## 2. EDA"
   ]
  },
  {
   "cell_type": "code",
   "execution_count": 20,
   "id": "b19da7d2",
   "metadata": {},
   "outputs": [
    {
     "data": {
      "text/plain": [
       "1    20215\n",
       "0    20172\n",
       "Name: Target, dtype: int64"
      ]
     },
     "execution_count": 20,
     "metadata": {},
     "output_type": "execute_result"
    }
   ],
   "source": [
    "df['Target'].value_counts()"
   ]
  },
  {
   "cell_type": "code",
   "execution_count": 21,
   "id": "36a61b60",
   "metadata": {},
   "outputs": [
    {
     "data": {
      "image/png": "[encoded data removed]",
      "text/plain": [
       "<Figure size 640x480 with 1 Axes>"
      ]
     },
     "metadata": {},
     "output_type": "display_data"
    }
   ],
   "source": [
    "import matplotlib.pyplot as plt\n",
    "plt.pie(df['Target'].value_counts(), labels=['Ham', 'Spam'], autopct=\"%0.2f\")\n",
    "plt.show()"
   ]
  },
  {
   "cell_type": "code",
   "execution_count": 22,
   "id": "75fdbdaf",
   "metadata": {},
   "outputs": [],
   "source": [
    "import nltk"
   ]
  },
  {
   "cell_type": "code",
   "execution_count": 23,
   "id": "0aecf1b5",
   "metadata": {},
   "outputs": [
    {
     "name": "stderr",
     "output_type": "stream",
     "text": [
      "[nltk_data] Downloading package punkt to\n",
      "[nltk_data]     C:\\Users\\dell\\AppData\\Roaming\\nltk_data...\n",
      "[nltk_data]   Package punkt is already up-to-date!\n"
     ]
    },
    {
     "data": {
      "text/plain": [
       "True"
      ]
     },
     "execution_count": 23,
     "metadata": {},
     "output_type": "execute_result"
    }
   ],
   "source": [
    "nltk.download('punkt')"
   ]
  },
  {
   "cell_type": "code",
   "execution_count": 24,
   "id": "0b3c15bd",
   "metadata": {},
   "outputs": [],
   "source": [
    "df['num_characters'] = df['Review'].apply(len)"
   ]
  },
  {
   "cell_type": "code",
   "execution_count": 25,
   "id": "2c0c7e73",
   "metadata": {},
   "outputs": [
    {
     "data": {
      "text/html": [
       "<div>\n",
       "<style scoped>\n",
       "    .dataframe tbody tr th:only-of-type {\n",
       "        vertical-align: middle;\n",
       "    }\n",
       "\n",
       "    .dataframe tbody tr th {\n",
       "        vertical-align: top;\n",
       "    }\n",
       "\n",
       "    .dataframe thead th {\n",
       "        text-align: right;\n",
       "    }\n",
       "</style>\n",
       "<table border=\"1\" class=\"dataframe\">\n",
       "  <thead>\n",
       "    <tr style=\"text-align: right;\">\n",
       "      <th></th>\n",
       "      <th>Target</th>\n",
       "      <th>Review</th>\n",
       "      <th>num_characters</th>\n",
       "    </tr>\n",
       "  </thead>\n",
       "  <tbody>\n",
       "    <tr>\n",
       "      <th>0</th>\n",
       "      <td>0</td>\n",
       "      <td>love well made sturdi comfort i love veri pretti</td>\n",
       "      <td>48</td>\n",
       "    </tr>\n",
       "    <tr>\n",
       "      <th>1</th>\n",
       "      <td>0</td>\n",
       "      <td>love great upgrad origin i 've mine coupl year</td>\n",
       "      <td>46</td>\n",
       "    </tr>\n",
       "    <tr>\n",
       "      <th>2</th>\n",
       "      <td>0</td>\n",
       "      <td>thi pillow save back i love look feel pillow</td>\n",
       "      <td>44</td>\n",
       "    </tr>\n",
       "    <tr>\n",
       "      <th>3</th>\n",
       "      <td>0</td>\n",
       "      <td>miss inform use great product price i</td>\n",
       "      <td>37</td>\n",
       "    </tr>\n",
       "    <tr>\n",
       "      <th>4</th>\n",
       "      <td>0</td>\n",
       "      <td>veri nice set good qualiti we set two month</td>\n",
       "      <td>43</td>\n",
       "    </tr>\n",
       "  </tbody>\n",
       "</table>\n",
       "</div>"
      ],
      "text/plain": [
       "   Target                                            Review  num_characters\n",
       "0       0  love well made sturdi comfort i love veri pretti              48\n",
       "1       0    love great upgrad origin i 've mine coupl year              46\n",
       "2       0      thi pillow save back i love look feel pillow              44\n",
       "3       0             miss inform use great product price i              37\n",
       "4       0       veri nice set good qualiti we set two month              43"
      ]
     },
     "execution_count": 25,
     "metadata": {},
     "output_type": "execute_result"
    }
   ],
   "source": [
    "df.head()"
   ]
  },
  {
   "cell_type": "code",
   "execution_count": 26,
   "id": "098de00c",
   "metadata": {},
   "outputs": [],
   "source": [
    "df['num_words'] = df['Review'].apply(lambda x : len(nltk.word_tokenize(x)))"
   ]
  },
  {
   "cell_type": "code",
   "execution_count": 27,
   "id": "29a1d058",
   "metadata": {},
   "outputs": [
    {
     "data": {
      "text/html": [
       "<div>\n",
       "<style scoped>\n",
       "    .dataframe tbody tr th:only-of-type {\n",
       "        vertical-align: middle;\n",
       "    }\n",
       "\n",
       "    .dataframe tbody tr th {\n",
       "        vertical-align: top;\n",
       "    }\n",
       "\n",
       "    .dataframe thead th {\n",
       "        text-align: right;\n",
       "    }\n",
       "</style>\n",
       "<table border=\"1\" class=\"dataframe\">\n",
       "  <thead>\n",
       "    <tr style=\"text-align: right;\">\n",
       "      <th></th>\n",
       "      <th>Target</th>\n",
       "      <th>Review</th>\n",
       "      <th>num_characters</th>\n",
       "      <th>num_words</th>\n",
       "    </tr>\n",
       "  </thead>\n",
       "  <tbody>\n",
       "    <tr>\n",
       "      <th>0</th>\n",
       "      <td>0</td>\n",
       "      <td>love well made sturdi comfort i love veri pretti</td>\n",
       "      <td>48</td>\n",
       "      <td>9</td>\n",
       "    </tr>\n",
       "    <tr>\n",
       "      <th>1</th>\n",
       "      <td>0</td>\n",
       "      <td>love great upgrad origin i 've mine coupl year</td>\n",
       "      <td>46</td>\n",
       "      <td>9</td>\n",
       "    </tr>\n",
       "    <tr>\n",
       "      <th>2</th>\n",
       "      <td>0</td>\n",
       "      <td>thi pillow save back i love look feel pillow</td>\n",
       "      <td>44</td>\n",
       "      <td>9</td>\n",
       "    </tr>\n",
       "    <tr>\n",
       "      <th>3</th>\n",
       "      <td>0</td>\n",
       "      <td>miss inform use great product price i</td>\n",
       "      <td>37</td>\n",
       "      <td>7</td>\n",
       "    </tr>\n",
       "    <tr>\n",
       "      <th>4</th>\n",
       "      <td>0</td>\n",
       "      <td>veri nice set good qualiti we set two month</td>\n",
       "      <td>43</td>\n",
       "      <td>9</td>\n",
       "    </tr>\n",
       "  </tbody>\n",
       "</table>\n",
       "</div>"
      ],
      "text/plain": [
       "   Target                                            Review  num_characters  \\\n",
       "0       0  love well made sturdi comfort i love veri pretti              48   \n",
       "1       0    love great upgrad origin i 've mine coupl year              46   \n",
       "2       0      thi pillow save back i love look feel pillow              44   \n",
       "3       0             miss inform use great product price i              37   \n",
       "4       0       veri nice set good qualiti we set two month              43   \n",
       "\n",
       "   num_words  \n",
       "0          9  \n",
       "1          9  \n",
       "2          9  \n",
       "3          7  \n",
       "4          9  "
      ]
     },
     "execution_count": 27,
     "metadata": {},
     "output_type": "execute_result"
    }
   ],
   "source": [
    "df.head()"
   ]
  },
  {
   "cell_type": "code",
   "execution_count": 28,
   "id": "b9aab57c",
   "metadata": {},
   "outputs": [],
   "source": [
    "df['num_sentences'] = df['Review'].apply(lambda x : len(nltk.sent_tokenize(x)))"
   ]
  },
  {
   "cell_type": "code",
   "execution_count": 29,
   "id": "f22a5997",
   "metadata": {},
   "outputs": [
    {
     "data": {
      "text/html": [
       "<div>\n",
       "<style scoped>\n",
       "    .dataframe tbody tr th:only-of-type {\n",
       "        vertical-align: middle;\n",
       "    }\n",
       "\n",
       "    .dataframe tbody tr th {\n",
       "        vertical-align: top;\n",
       "    }\n",
       "\n",
       "    .dataframe thead th {\n",
       "        text-align: right;\n",
       "    }\n",
       "</style>\n",
       "<table border=\"1\" class=\"dataframe\">\n",
       "  <thead>\n",
       "    <tr style=\"text-align: right;\">\n",
       "      <th></th>\n",
       "      <th>Target</th>\n",
       "      <th>Review</th>\n",
       "      <th>num_characters</th>\n",
       "      <th>num_words</th>\n",
       "      <th>num_sentences</th>\n",
       "    </tr>\n",
       "  </thead>\n",
       "  <tbody>\n",
       "    <tr>\n",
       "      <th>0</th>\n",
       "      <td>0</td>\n",
       "      <td>love well made sturdi comfort i love veri pretti</td>\n",
       "      <td>48</td>\n",
       "      <td>9</td>\n",
       "      <td>1</td>\n",
       "    </tr>\n",
       "    <tr>\n",
       "      <th>1</th>\n",
       "      <td>0</td>\n",
       "      <td>love great upgrad origin i 've mine coupl year</td>\n",
       "      <td>46</td>\n",
       "      <td>9</td>\n",
       "      <td>1</td>\n",
       "    </tr>\n",
       "    <tr>\n",
       "      <th>2</th>\n",
       "      <td>0</td>\n",
       "      <td>thi pillow save back i love look feel pillow</td>\n",
       "      <td>44</td>\n",
       "      <td>9</td>\n",
       "      <td>1</td>\n",
       "    </tr>\n",
       "    <tr>\n",
       "      <th>3</th>\n",
       "      <td>0</td>\n",
       "      <td>miss inform use great product price i</td>\n",
       "      <td>37</td>\n",
       "      <td>7</td>\n",
       "      <td>1</td>\n",
       "    </tr>\n",
       "    <tr>\n",
       "      <th>4</th>\n",
       "      <td>0</td>\n",
       "      <td>veri nice set good qualiti we set two month</td>\n",
       "      <td>43</td>\n",
       "      <td>9</td>\n",
       "      <td>1</td>\n",
       "    </tr>\n",
       "  </tbody>\n",
       "</table>\n",
       "</div>"
      ],
      "text/plain": [
       "   Target                                            Review  num_characters  \\\n",
       "0       0  love well made sturdi comfort i love veri pretti              48   \n",
       "1       0    love great upgrad origin i 've mine coupl year              46   \n",
       "2       0      thi pillow save back i love look feel pillow              44   \n",
       "3       0             miss inform use great product price i              37   \n",
       "4       0       veri nice set good qualiti we set two month              43   \n",
       "\n",
       "   num_words  num_sentences  \n",
       "0          9              1  \n",
       "1          9              1  \n",
       "2          9              1  \n",
       "3          7              1  \n",
       "4          9              1  "
      ]
     },
     "execution_count": 29,
     "metadata": {},
     "output_type": "execute_result"
    }
   ],
   "source": [
    "df.head()"
   ]
  },
  {
   "cell_type": "code",
   "execution_count": 30,
   "id": "55ed2e1d",
   "metadata": {},
   "outputs": [
    {
     "data": {
      "text/html": [
       "<div>\n",
       "<style scoped>\n",
       "    .dataframe tbody tr th:only-of-type {\n",
       "        vertical-align: middle;\n",
       "    }\n",
       "\n",
       "    .dataframe tbody tr th {\n",
       "        vertical-align: top;\n",
       "    }\n",
       "\n",
       "    .dataframe thead th {\n",
       "        text-align: right;\n",
       "    }\n",
       "</style>\n",
       "<table border=\"1\" class=\"dataframe\">\n",
       "  <thead>\n",
       "    <tr style=\"text-align: right;\">\n",
       "      <th></th>\n",
       "      <th>num_characters</th>\n",
       "      <th>num_words</th>\n",
       "      <th>num_sentences</th>\n",
       "    </tr>\n",
       "  </thead>\n",
       "  <tbody>\n",
       "    <tr>\n",
       "      <th>count</th>\n",
       "      <td>40387.000000</td>\n",
       "      <td>40387.000000</td>\n",
       "      <td>40387.000000</td>\n",
       "    </tr>\n",
       "    <tr>\n",
       "      <th>mean</th>\n",
       "      <td>205.906678</td>\n",
       "      <td>38.210786</td>\n",
       "      <td>1.004110</td>\n",
       "    </tr>\n",
       "    <tr>\n",
       "      <th>std</th>\n",
       "      <td>219.493038</td>\n",
       "      <td>39.511392</td>\n",
       "      <td>0.080439</td>\n",
       "    </tr>\n",
       "    <tr>\n",
       "      <th>min</th>\n",
       "      <td>8.000000</td>\n",
       "      <td>1.000000</td>\n",
       "      <td>1.000000</td>\n",
       "    </tr>\n",
       "    <tr>\n",
       "      <th>25%</th>\n",
       "      <td>64.000000</td>\n",
       "      <td>12.000000</td>\n",
       "      <td>1.000000</td>\n",
       "    </tr>\n",
       "    <tr>\n",
       "      <th>50%</th>\n",
       "      <td>116.000000</td>\n",
       "      <td>22.000000</td>\n",
       "      <td>1.000000</td>\n",
       "    </tr>\n",
       "    <tr>\n",
       "      <th>75%</th>\n",
       "      <td>253.000000</td>\n",
       "      <td>48.000000</td>\n",
       "      <td>1.000000</td>\n",
       "    </tr>\n",
       "    <tr>\n",
       "      <th>max</th>\n",
       "      <td>2232.000000</td>\n",
       "      <td>322.000000</td>\n",
       "      <td>9.000000</td>\n",
       "    </tr>\n",
       "  </tbody>\n",
       "</table>\n",
       "</div>"
      ],
      "text/plain": [
       "       num_characters     num_words  num_sentences\n",
       "count    40387.000000  40387.000000   40387.000000\n",
       "mean       205.906678     38.210786       1.004110\n",
       "std        219.493038     39.511392       0.080439\n",
       "min          8.000000      1.000000       1.000000\n",
       "25%         64.000000     12.000000       1.000000\n",
       "50%        116.000000     22.000000       1.000000\n",
       "75%        253.000000     48.000000       1.000000\n",
       "max       2232.000000    322.000000       9.000000"
      ]
     },
     "execution_count": 30,
     "metadata": {},
     "output_type": "execute_result"
    }
   ],
   "source": [
    "df[['num_characters','num_words','num_sentences']].describe()"
   ]
  },
  {
   "cell_type": "code",
   "execution_count": 31,
   "id": "58ede0b5",
   "metadata": {},
   "outputs": [
    {
     "data": {
      "text/html": [
       "<div>\n",
       "<style scoped>\n",
       "    .dataframe tbody tr th:only-of-type {\n",
       "        vertical-align: middle;\n",
       "    }\n",
       "\n",
       "    .dataframe tbody tr th {\n",
       "        vertical-align: top;\n",
       "    }\n",
       "\n",
       "    .dataframe thead th {\n",
       "        text-align: right;\n",
       "    }\n",
       "</style>\n",
       "<table border=\"1\" class=\"dataframe\">\n",
       "  <thead>\n",
       "    <tr style=\"text-align: right;\">\n",
       "      <th></th>\n",
       "      <th>num_characters</th>\n",
       "      <th>num_words</th>\n",
       "      <th>num_sentences</th>\n",
       "    </tr>\n",
       "  </thead>\n",
       "  <tbody>\n",
       "    <tr>\n",
       "      <th>count</th>\n",
       "      <td>20215.000000</td>\n",
       "      <td>20215.000000</td>\n",
       "      <td>20215.000000</td>\n",
       "    </tr>\n",
       "    <tr>\n",
       "      <th>mean</th>\n",
       "      <td>237.895869</td>\n",
       "      <td>43.042642</td>\n",
       "      <td>1.006926</td>\n",
       "    </tr>\n",
       "    <tr>\n",
       "      <th>std</th>\n",
       "      <td>252.927000</td>\n",
       "      <td>44.359128</td>\n",
       "      <td>0.094110</td>\n",
       "    </tr>\n",
       "    <tr>\n",
       "      <th>min</th>\n",
       "      <td>8.000000</td>\n",
       "      <td>1.000000</td>\n",
       "      <td>1.000000</td>\n",
       "    </tr>\n",
       "    <tr>\n",
       "      <th>25%</th>\n",
       "      <td>74.000000</td>\n",
       "      <td>14.000000</td>\n",
       "      <td>1.000000</td>\n",
       "    </tr>\n",
       "    <tr>\n",
       "      <th>50%</th>\n",
       "      <td>134.000000</td>\n",
       "      <td>25.000000</td>\n",
       "      <td>1.000000</td>\n",
       "    </tr>\n",
       "    <tr>\n",
       "      <th>75%</th>\n",
       "      <td>296.000000</td>\n",
       "      <td>54.000000</td>\n",
       "      <td>1.000000</td>\n",
       "    </tr>\n",
       "    <tr>\n",
       "      <th>max</th>\n",
       "      <td>2232.000000</td>\n",
       "      <td>322.000000</td>\n",
       "      <td>4.000000</td>\n",
       "    </tr>\n",
       "  </tbody>\n",
       "</table>\n",
       "</div>"
      ],
      "text/plain": [
       "       num_characters     num_words  num_sentences\n",
       "count    20215.000000  20215.000000   20215.000000\n",
       "mean       237.895869     43.042642       1.006926\n",
       "std        252.927000     44.359128       0.094110\n",
       "min          8.000000      1.000000       1.000000\n",
       "25%         74.000000     14.000000       1.000000\n",
       "50%        134.000000     25.000000       1.000000\n",
       "75%        296.000000     54.000000       1.000000\n",
       "max       2232.000000    322.000000       4.000000"
      ]
     },
     "execution_count": 31,
     "metadata": {},
     "output_type": "execute_result"
    }
   ],
   "source": [
    "df[df['Target'] == 1][['num_characters','num_words','num_sentences']].describe()"
   ]
  },
  {
   "cell_type": "code",
   "execution_count": 32,
   "id": "ee762805",
   "metadata": {},
   "outputs": [
    {
     "data": {
      "text/html": [
       "<div>\n",
       "<style scoped>\n",
       "    .dataframe tbody tr th:only-of-type {\n",
       "        vertical-align: middle;\n",
       "    }\n",
       "\n",
       "    .dataframe tbody tr th {\n",
       "        vertical-align: top;\n",
       "    }\n",
       "\n",
       "    .dataframe thead th {\n",
       "        text-align: right;\n",
       "    }\n",
       "</style>\n",
       "<table border=\"1\" class=\"dataframe\">\n",
       "  <thead>\n",
       "    <tr style=\"text-align: right;\">\n",
       "      <th></th>\n",
       "      <th>num_characters</th>\n",
       "      <th>num_words</th>\n",
       "      <th>num_sentences</th>\n",
       "    </tr>\n",
       "  </thead>\n",
       "  <tbody>\n",
       "    <tr>\n",
       "      <th>count</th>\n",
       "      <td>20172.000000</td>\n",
       "      <td>20172.000000</td>\n",
       "      <td>20172.000000</td>\n",
       "    </tr>\n",
       "    <tr>\n",
       "      <th>mean</th>\n",
       "      <td>173.849296</td>\n",
       "      <td>33.368630</td>\n",
       "      <td>1.001289</td>\n",
       "    </tr>\n",
       "    <tr>\n",
       "      <th>std</th>\n",
       "      <td>174.062547</td>\n",
       "      <td>33.270605</td>\n",
       "      <td>0.063746</td>\n",
       "    </tr>\n",
       "    <tr>\n",
       "      <th>min</th>\n",
       "      <td>13.000000</td>\n",
       "      <td>2.000000</td>\n",
       "      <td>1.000000</td>\n",
       "    </tr>\n",
       "    <tr>\n",
       "      <th>25%</th>\n",
       "      <td>57.000000</td>\n",
       "      <td>11.000000</td>\n",
       "      <td>1.000000</td>\n",
       "    </tr>\n",
       "    <tr>\n",
       "      <th>50%</th>\n",
       "      <td>100.000000</td>\n",
       "      <td>19.000000</td>\n",
       "      <td>1.000000</td>\n",
       "    </tr>\n",
       "    <tr>\n",
       "      <th>75%</th>\n",
       "      <td>217.000000</td>\n",
       "      <td>42.000000</td>\n",
       "      <td>1.000000</td>\n",
       "    </tr>\n",
       "    <tr>\n",
       "      <th>max</th>\n",
       "      <td>1300.000000</td>\n",
       "      <td>229.000000</td>\n",
       "      <td>9.000000</td>\n",
       "    </tr>\n",
       "  </tbody>\n",
       "</table>\n",
       "</div>"
      ],
      "text/plain": [
       "       num_characters     num_words  num_sentences\n",
       "count    20172.000000  20172.000000   20172.000000\n",
       "mean       173.849296     33.368630       1.001289\n",
       "std        174.062547     33.270605       0.063746\n",
       "min         13.000000      2.000000       1.000000\n",
       "25%         57.000000     11.000000       1.000000\n",
       "50%        100.000000     19.000000       1.000000\n",
       "75%        217.000000     42.000000       1.000000\n",
       "max       1300.000000    229.000000       9.000000"
      ]
     },
     "execution_count": 32,
     "metadata": {},
     "output_type": "execute_result"
    }
   ],
   "source": [
    "df[df['Target'] == 0][['num_characters','num_words','num_sentences']].describe()"
   ]
  },
  {
   "cell_type": "code",
   "execution_count": 33,
   "id": "49449e2a",
   "metadata": {},
   "outputs": [],
   "source": [
    "import seaborn as sns"
   ]
  },
  {
   "cell_type": "code",
   "execution_count": 34,
   "id": "6c835b98",
   "metadata": {},
   "outputs": [
    {
     "data": {
      "text/plain": [
       "<Axes: xlabel='num_characters', ylabel='Count'>"
      ]
     },
     "execution_count": 34,
     "metadata": {},
     "output_type": "execute_result"
    },
    {
     "data": {
      "image/png": "[encoded data removed]",
      "text/plain": [
       "<Figure size 1200x600 with 1 Axes>"
      ]
     },
     "metadata": {},
     "output_type": "display_data"
    }
   ],
   "source": [
    "plt.figure(figsize=(12,6))\n",
    "sns.histplot(df[df['Target'] == 0]['num_characters'])\n",
    "sns.histplot(df[df['Target'] == 1]['num_characters'],color='red')"
   ]
  },
  {
   "cell_type": "code",
   "execution_count": 35,
   "id": "28869017",
   "metadata": {},
   "outputs": [
    {
     "data": {
      "text/plain": [
       "<Axes: xlabel='num_words', ylabel='Count'>"
      ]
     },
     "execution_count": 35,
     "metadata": {},
     "output_type": "execute_result"
    },
    {
     "data": {
      "image/png": "[encoded data removed]",
      "text/plain": [
       "<Figure size 1200x600 with 1 Axes>"
      ]
     },
     "metadata": {},
     "output_type": "display_data"
    }
   ],
   "source": [
    "plt.figure(figsize=(12,6))\n",
    "sns.histplot(df[df['Target'] == 0]['num_words'])\n",
    "sns.histplot(df[df['Target'] == 1]['num_words'],color='red')"
   ]
  },
  {
   "cell_type": "code",
   "execution_count": 36,
   "id": "92f09337",
   "metadata": {},
   "outputs": [
    {
     "data": {
      "text/plain": [
       "<seaborn.axisgrid.PairGrid at 0x27675d4c640>"
      ]
     },
     "execution_count": 36,
     "metadata": {},
     "output_type": "execute_result"
    },
    {
     "data": {
      "image/png": "[encoded data removed]",
      "text/plain": [
       "<Figure size 808.875x750 with 12 Axes>"
      ]
     },
     "metadata": {},
     "output_type": "display_data"
    }
   ],
   "source": [
    "sns.pairplot(df,hue='Target')"
   ]
  },
  {
   "cell_type": "code",
   "execution_count": 37,
   "id": "d35035df",
   "metadata": {},
   "outputs": [
    {
     "name": "stderr",
     "output_type": "stream",
     "text": [
      "C:\\Users\\dell\\AppData\\Local\\Temp\\ipykernel_4060\\621126171.py:1: FutureWarning: The default value of numeric_only in DataFrame.corr is deprecated. In a future version, it will default to False. Select only valid columns or specify the value of numeric_only to silence this warning.\n",
      "  sns.heatmap(df.corr(), annot=True)\n"
     ]
    },
    {
     "data": {
      "text/plain": [
       "<Axes: >"
      ]
     },
     "execution_count": 37,
     "metadata": {},
     "output_type": "execute_result"
    },
    {
     "data": {
      "image/png": "[encoded data removed]",
      "text/plain": [
       "<Figure size 640x480 with 2 Axes>"
      ]
     },
     "metadata": {},
     "output_type": "display_data"
    }
   ],
   "source": [
    "sns.heatmap(df.corr(), annot=True)"
   ]
  },
  {
   "cell_type": "markdown",
   "id": "6a5e71b9",
   "metadata": {},
   "source": [
    "# # 3. Data Preprocessing\n",
    "1. Lowercase\n",
    "2. Tokenization\n",
    "3. Removing Stop words\n",
    "4. Removing Stop words and Punctuation\n",
    "5. Stemming"
   ]
  },
  {
   "cell_type": "code",
   "execution_count": 38,
   "id": "b5af73c7",
   "metadata": {},
   "outputs": [],
   "source": [
    "#FOR STOPWORDS:\n",
    "from nltk.corpus import stopwords\n",
    "#FOR PUNCTUATIONS:\n",
    "import string\n",
    "#FOR STEMMING:\n",
    "from nltk.stem.porter import PorterStemmer\n",
    "ps = PorterStemmer()"
   ]
  },
  {
   "cell_type": "code",
   "execution_count": 39,
   "id": "d1c3a0fe",
   "metadata": {},
   "outputs": [],
   "source": [
    "def transform_text(Review):\n",
    "    #TO LOWER CASE:\n",
    "    Review = Review.lower()\n",
    "    \n",
    "    #FOT TOKENIZATION: \n",
    "    Review = nltk.word_tokenize(Review)\n",
    "    \n",
    "    #REMOVING SPECIAL CHARACTERS:\n",
    "    y = []\n",
    "    for i in Review:\n",
    "        if i.isalnum():\n",
    "            y.append(i)\n",
    "            \n",
    "    #FOR REMOVING STOP WORDS AND PUNCTUATIONS:\n",
    "    Review = y[:]\n",
    "    y.clear()\n",
    "    \n",
    "    for i in Review:\n",
    "        if i not in stopwords.words('english') and i not in string.punctuation:\n",
    "            y.append(i)\n",
    "            \n",
    "    #FOR STEMMING:\n",
    "    Review = y[:]\n",
    "    y.clear()\n",
    "    \n",
    "    for i in Review:\n",
    "        y.append(ps.stem(i))\n",
    "            \n",
    "    return \" \".join(y)"
   ]
  },
  {
   "cell_type": "code",
   "execution_count": 40,
   "id": "9f87c566",
   "metadata": {},
   "outputs": [
    {
     "data": {
      "text/plain": [
       "'love yt lectur machin learn'"
      ]
     },
     "execution_count": 40,
     "metadata": {},
     "output_type": "execute_result"
    }
   ],
   "source": [
    "transform_text('I loved the YT lectures on Machine Learning. How about you?')"
   ]
  },
  {
   "cell_type": "code",
   "execution_count": 41,
   "id": "5473e2c9",
   "metadata": {},
   "outputs": [],
   "source": [
    "def transform_text(text):\n",
    "    \n",
    "    df['transformed_text'] = df['Review'].apply(transform_text)\n"
   ]
  },
  {
   "cell_type": "code",
   "execution_count": 42,
   "id": "ca3488fa",
   "metadata": {},
   "outputs": [
    {
     "data": {
      "text/plain": [
       "(40387,)"
      ]
     },
     "execution_count": 42,
     "metadata": {},
     "output_type": "execute_result"
    }
   ],
   "source": [
    "X.shape"
   ]
  },
  {
   "cell_type": "code",
   "execution_count": 43,
   "id": "9f09378c",
   "metadata": {},
   "outputs": [],
   "source": [
    "y = df['Target'].values"
   ]
  },
  {
   "cell_type": "code",
   "execution_count": 44,
   "id": "9102827c",
   "metadata": {},
   "outputs": [
    {
     "data": {
      "text/plain": [
       "array([0, 0, 0, ..., 1, 0, 1])"
      ]
     },
     "execution_count": 44,
     "metadata": {},
     "output_type": "execute_result"
    }
   ],
   "source": [
    "y"
   ]
  },
  {
   "cell_type": "markdown",
   "id": "d058fb72",
   "metadata": {},
   "source": [
    "## 4. Model Building"
   ]
  },
  {
   "cell_type": "code",
   "execution_count": 45,
   "id": "5b4880c2",
   "metadata": {},
   "outputs": [],
   "source": [
    "from sklearn.feature_extraction.text import CountVectorizer\n",
    "cv = CountVectorizer()"
   ]
  },
  {
   "cell_type": "code",
   "execution_count": 46,
   "id": "675880d1",
   "metadata": {},
   "outputs": [],
   "source": [
    "from sklearn.model_selection import train_test_split"
   ]
  },
  {
   "cell_type": "code",
   "execution_count": 47,
   "id": "cd490042",
   "metadata": {},
   "outputs": [],
   "source": [
    "X_train, X_test, y_train, y_test = train_test_split(X, y, test_size=0.5, random_state=2)"
   ]
  },
  {
   "cell_type": "code",
   "execution_count": 48,
   "id": "22339db8",
   "metadata": {},
   "outputs": [],
   "source": [
    "vectorizer = TfidfVectorizer(max_features=5000, stop_words='english')\n",
    "X_train_tfidf = vectorizer.fit_transform(X_train)\n",
    "X_test_tfidf = vectorizer.transform(X_test)"
   ]
  },
  {
   "cell_type": "code",
   "execution_count": 49,
   "id": "5b203e6f",
   "metadata": {},
   "outputs": [],
   "source": [
    "X_train, X_test, y_train, y_test = train_test_split(X, y, test_size=0.2, random_state=42)"
   ]
  },
  {
   "cell_type": "code",
   "execution_count": 50,
   "id": "4594c79e",
   "metadata": {},
   "outputs": [],
   "source": [
    "vectorizer = TfidfVectorizer(max_features=5000, stop_words='english')"
   ]
  },
  {
   "cell_type": "code",
   "execution_count": 51,
   "id": "eb906e57",
   "metadata": {},
   "outputs": [],
   "source": [
    "X_train_tfidf = vectorizer.fit_transform(X_train)"
   ]
  },
  {
   "cell_type": "code",
   "execution_count": 52,
   "id": "b8b239be",
   "metadata": {},
   "outputs": [],
   "source": [
    "X_test_tfidf = vectorizer.transform(X_test)"
   ]
  },
  {
   "cell_type": "code",
   "execution_count": 53,
   "id": "9b677fcf",
   "metadata": {},
   "outputs": [],
   "source": [
    "rf_model = RandomForestClassifier(n_estimators=100, random_state=42)"
   ]
  },
  {
   "cell_type": "code",
   "execution_count": 54,
   "id": "6609cdd2",
   "metadata": {},
   "outputs": [
    {
     "data": {
      "text/html": [
       "<style>#sk-container-id-1 {color: black;background-color: white;}#sk-container-id-1 pre{padding: 0;}#sk-container-id-1 div.sk-toggleable {background-color: white;}#sk-container-id-1 label.sk-toggleable__label {cursor: pointer;display: block;width: 100%;margin-bottom: 0;padding: 0.3em;box-sizing: border-box;text-align: center;}#sk-container-id-1 label.sk-toggleable__label-arrow:before {content: \"▸\";float: left;margin-right: 0.25em;color: #696969;}#sk-container-id-1 label.sk-toggleable__label-arrow:hover:before {color: black;}#sk-container-id-1 div.sk-estimator:hover label.sk-toggleable__label-arrow:before {color: black;}#sk-container-id-1 div.sk-toggleable__content {max-height: 0;max-width: 0;overflow: hidden;text-align: left;background-color: #f0f8ff;}#sk-container-id-1 div.sk-toggleable__content pre {margin: 0.2em;color: black;border-radius: 0.25em;background-color: #f0f8ff;}#sk-container-id-1 input.sk-toggleable__control:checked~div.sk-toggleable__content {max-height: 200px;max-width: 100%;overflow: auto;}#sk-container-id-1 input.sk-toggleable__control:checked~label.sk-toggleable__label-arrow:before {content: \"▾\";}#sk-container-id-1 div.sk-estimator input.sk-toggleable__control:checked~label.sk-toggleable__label {background-color: #d4ebff;}#sk-container-id-1 div.sk-label input.sk-toggleable__control:checked~label.sk-toggleable__label {background-color: #d4ebff;}#sk-container-id-1 input.sk-hidden--visually {border: 0;clip: rect(1px 1px 1px 1px);clip: rect(1px, 1px, 1px, 1px);height: 1px;margin: -1px;overflow: hidden;padding: 0;position: absolute;width: 1px;}#sk-container-id-1 div.sk-estimator {font-family: monospace;background-color: #f0f8ff;border: 1px dotted black;border-radius: 0.25em;box-sizing: border-box;margin-bottom: 0.5em;}#sk-container-id-1 div.sk-estimator:hover {background-color: #d4ebff;}#sk-container-id-1 div.sk-parallel-item::after {content: \"\";width: 100%;border-bottom: 1px solid gray;flex-grow: 1;}#sk-container-id-1 div.sk-label:hover label.sk-toggleable__label {background-color: #d4ebff;}#sk-container-id-1 div.sk-serial::before {content: \"\";position: absolute;border-left: 1px solid gray;box-sizing: border-box;top: 0;bottom: 0;left: 50%;z-index: 0;}#sk-container-id-1 div.sk-serial {display: flex;flex-direction: column;align-items: center;background-color: white;padding-right: 0.2em;padding-left: 0.2em;position: relative;}#sk-container-id-1 div.sk-item {position: relative;z-index: 1;}#sk-container-id-1 div.sk-parallel {display: flex;align-items: stretch;justify-content: center;background-color: white;position: relative;}#sk-container-id-1 div.sk-item::before, #sk-container-id-1 div.sk-parallel-item::before {content: \"\";position: absolute;border-left: 1px solid gray;box-sizing: border-box;top: 0;bottom: 0;left: 50%;z-index: -1;}#sk-container-id-1 div.sk-parallel-item {display: flex;flex-direction: column;z-index: 1;position: relative;background-color: white;}#sk-container-id-1 div.sk-parallel-item:first-child::after {align-self: flex-end;width: 50%;}#sk-container-id-1 div.sk-parallel-item:last-child::after {align-self: flex-start;width: 50%;}#sk-container-id-1 div.sk-parallel-item:only-child::after {width: 0;}#sk-container-id-1 div.sk-dashed-wrapped {border: 1px dashed gray;margin: 0 0.4em 0.5em 0.4em;box-sizing: border-box;padding-bottom: 0.4em;background-color: white;}#sk-container-id-1 div.sk-label label {font-family: monospace;font-weight: bold;display: inline-block;line-height: 1.2em;}#sk-container-id-1 div.sk-label-container {text-align: center;}#sk-container-id-1 div.sk-container {/* jupyter's `normalize.less` sets `[hidden] { display: none; }` but bootstrap.min.css set `[hidden] { display: none !important; }` so we also need the `!important` here to be able to override the default hidden behavior on the sphinx rendered scikit-learn.org. See: https://github.com/scikit-learn/scikit-learn/issues/21755 */display: inline-block !important;position: relative;}#sk-container-id-1 div.sk-text-repr-fallback {display: none;}</style><div id=\"sk-container-id-1\" class=\"sk-top-container\"><div class=\"sk-text-repr-fallback\"><pre>RandomForestClassifier(random_state=42)</pre><b>In a Jupyter environment, please rerun this cell to show the HTML representation or trust the notebook. <br />On GitHub, the HTML representation is unable to render, please try loading this page with nbviewer.org.</b></div><div class=\"sk-container\" hidden><div class=\"sk-item\"><div class=\"sk-estimator sk-toggleable\"><input class=\"sk-toggleable__control sk-hidden--visually\" id=\"sk-estimator-id-1\" type=\"checkbox\" checked><label for=\"sk-estimator-id-1\" class=\"sk-toggleable__label sk-toggleable__label-arrow\">RandomForestClassifier</label><div class=\"sk-toggleable__content\"><pre>RandomForestClassifier(random_state=42)</pre></div></div></div></div></div>"
      ],
      "text/plain": [
       "RandomForestClassifier(random_state=42)"
      ]
     },
     "execution_count": 54,
     "metadata": {},
     "output_type": "execute_result"
    }
   ],
   "source": [
    "rf_model.fit(X_train_tfidf, y_train)"
   ]
  },
  {
   "cell_type": "code",
   "execution_count": 55,
   "id": "d814309d",
   "metadata": {},
   "outputs": [],
   "source": [
    "y_pred = rf_model.predict(X_test_tfidf)"
   ]
  },
  {
   "cell_type": "code",
   "execution_count": 56,
   "id": "87f89aca",
   "metadata": {},
   "outputs": [],
   "source": [
    "accuracy = accuracy_score(y_test, y_pred)\n",
    "report = classification_report(y_test, y_pred)"
   ]
  },
  {
   "cell_type": "code",
   "execution_count": 57,
   "id": "0a195553",
   "metadata": {},
   "outputs": [
    {
     "name": "stdout",
     "output_type": "stream",
     "text": [
      "Accuracy: 0.8269373607328546\n",
      "Classification Report:\n",
      "               precision    recall  f1-score   support\n",
      "\n",
      "           0       0.80      0.87      0.83      3968\n",
      "           1       0.86      0.79      0.82      4110\n",
      "\n",
      "    accuracy                           0.83      8078\n",
      "   macro avg       0.83      0.83      0.83      8078\n",
      "weighted avg       0.83      0.83      0.83      8078\n",
      "\n"
     ]
    }
   ],
   "source": [
    "print(f\"Accuracy: {accuracy}\")\n",
    "print(\"Classification Report:\\n\", report)"
   ]
  },
  {
   "cell_type": "code",
   "execution_count": 58,
   "id": "ce53c4e4",
   "metadata": {},
   "outputs": [
    {
     "name": "stdout",
     "output_type": "stream",
     "text": [
      "Review: order place special photo wall we 've coupl week\n",
      "Predicted Label: 0\n",
      "------------------------\n",
      "Review: easi review the kid dd love thank\n",
      "Predicted Label: 0\n",
      "------------------------\n"
     ]
    }
   ],
   "source": [
    "new_data = [\"order place special photo wall we 've coupl week\",\"easi review the kid dd love thank\"]\n",
    "new_data_tfidf = vectorizer.transform(new_data)\n",
    "new_predictions = rf_model.predict(new_data_tfidf)\n",
    "for review, prediction in zip(new_data, new_predictions):\n",
    "    print(f\"Review: {review}\")\n",
    "    print(f\"Predicted Label: {prediction}\")\n",
    "    print(\"------------------------\")"
   ]
  },
  {
   "cell_type": "code",
   "execution_count": 59,
   "id": "bd1b386d",
   "metadata": {},
   "outputs": [
    {
     "name": "stdout",
     "output_type": "stream",
     "text": [
      "Review: This is a very good.\n",
      "Predicted Label: 1\n",
      "------------------------\n",
      "Review: babi like thermal insul help keep food warmer the thermal insul help keep.\n",
      "Predicted Label: 0\n",
      "------------------------\n",
      "Review: Great experience!\n",
      "Predicted Label: 1\n",
      "------------------------\n"
     ]
    }
   ],
   "source": [
    "# Assuming 'new_data' is a list of new text reviews\n",
    "new_data = [\"This is a very good.\", \"babi like thermal insul help keep food warmer the thermal insul help keep.\", \"Great experience!\"]\n",
    "\n",
    "# Transform the new data using the same TfidfVectorizer\n",
    "new_data_tfidf = vectorizer.transform(new_data)\n",
    "\n",
    "# Make predictions on the new data\n",
    "new_predictions = rf_model.predict(new_data_tfidf)\n",
    "\n",
    "# Display the predictions\n",
    "for review, prediction in zip(new_data, new_predictions):\n",
    "    print(f\"Review: {review}\")\n",
    "    print(f\"Predicted Label: {prediction}\")\n",
    "    print(\"------------------------\")\n"
   ]
  },
  {
   "cell_type": "code",
   "execution_count": 60,
   "id": "d2a5526e",
   "metadata": {},
   "outputs": [
    {
     "name": "stdout",
     "output_type": "stream",
     "text": [
      "Review: product is very bad|\n",
      "Predicted Label: 1\n",
      "------------------------\n",
      "Review: very costly\n",
      "Predicted Label: 0\n",
      "------------------------\n",
      "Review: love product\n",
      "Predicted Label: 0\n",
      "------------------------\n",
      "Review: bad product\n",
      "Predicted Label: 1\n",
      "------------------------\n",
      "Review: worst experience\n",
      "Predicted Label: 0\n",
      "------------------------\n",
      "Review: amazing product\n",
      "Predicted Label: 0\n",
      "------------------------\n",
      "Review: very useful love it\n",
      "Predicted Label: 0\n",
      "------------------------\n",
      "Review: did'nt like product\n",
      "Predicted Label: 1\n",
      "------------------------\n",
      "Review: not working\n",
      "Predicted Label: 0\n",
      "------------------------\n"
     ]
    }
   ],
   "source": [
    "new_data = [\"product is very bad|\",\"very costly\",\"love product\",\"bad product\",\"worst experience\",\"amazing product\",\"very useful love it\",\"did'nt like product\",\"not working\"]\n",
    "new_data_tfidf = vectorizer.transform(new_data)\n",
    "new_predictions = rf_model.predict(new_data_tfidf)\n",
    "for review, prediction in zip(new_data, new_predictions):\n",
    "    print(f\"Review: {review}\")\n",
    "    print(f\"Predicted Label: {prediction}\")\n",
    "    print(\"------------------------\")"
   ]
  },
  {
   "cell_type": "code",
   "execution_count": 61,
   "id": "ac7ef31b",
   "metadata": {},
   "outputs": [],
   "source": [
    "import pickle\n",
    "pickle.dump(vectorizer, open('vectorizer.pkl', 'wb'))\n",
    "pickle.dump(rf_model, open('model.pkl', 'wb'))"
   ]
  },
  {
   "cell_type": "markdown",
   "id": "84414fc0",
   "metadata": {},
   "source": [
    "## Web Scrapping\n"
   ]
  },
  {
   "cell_type": "code",
   "execution_count": 62,
   "id": "afbf86ef",
   "metadata": {},
   "outputs": [
    {
     "name": "stdout",
     "output_type": "stream",
     "text": [
      "Reviews scraped and saved to amazon_reviews.csv\n"
     ]
    }
   ],
   "source": [
    "import requests\n",
    "from bs4 import BeautifulSoup\n",
    "import csv\n",
    "\n",
    "def scrape_reviews(url):\n",
    "    headers = {\n",
    "        \"User-Agent\": \"Mozilla/5.0 (Windows NT 10.0; Win64; x64) AppleWebKit/537.36 (KHTML, like Gecko) Chrome/58.0.3029.110 Safari/537.3\"}\n",
    "    response = requests.get(url, headers=headers)\n",
    "    soup = BeautifulSoup(response.content, 'html.parser')\n",
    "\n",
    "    reviews = []\n",
    "    review_elements = soup.find_all('div', class_='a-section review aok-relative')\n",
    "\n",
    "    for review in review_elements:\n",
    "        try:\n",
    "            review_body = review.find('span', class_='a-size-base review-text review-text-content').text.strip()\n",
    "            reviews.append([review_body])\n",
    "        except AttributeError:\n",
    "            pass\n",
    "    \n",
    "    return reviews\n",
    "\n",
    "def save_to_csv(reviews, filename):\n",
    "    with open(filename, 'w', newline='', encoding='utf-8') as csvfile:\n",
    "        csv_writer = csv.writer(csvfile)\n",
    "        csv_writer.writerow(['Review'])\n",
    "        csv_writer.writerows(reviews)\n",
    "\n",
    "if __name__ == \"__main__\":\n",
    "    url = 'https://www.amazon.in/Red-Tape-Sneaker-Cushion-Slip-Resistance/product-reviews/B0C9HVN6CC/ref=cm_cr_dp_d_show_all_btm?ie=UTF8&reviewerType=all_reviews'\n",
    "    reviews = scrape_reviews(url)\n",
    "    save_to_csv(reviews, 'amazon_reviews.csv')\n",
    "    print(\"Reviews scraped and saved to amazon_reviews.csv\")"
   ]
  },
  {
   "cell_type": "code",
   "execution_count": 66,
   "id": "a3347cfd",
   "metadata": {},
   "outputs": [],
   "source": [
    "#STORING THE REVIEWS SCRAPPED INTO INTO DATAFRAME:\n",
    "ws = pd.read_csv(\"amazon_reviews.csv\")"
   ]
  },
  {
   "cell_type": "code",
   "execution_count": 67,
   "id": "d33f38ab",
   "metadata": {},
   "outputs": [
    {
     "data": {
      "text/html": [
       "<div>\n",
       "<style scoped>\n",
       "    .dataframe tbody tr th:only-of-type {\n",
       "        vertical-align: middle;\n",
       "    }\n",
       "\n",
       "    .dataframe tbody tr th {\n",
       "        vertical-align: top;\n",
       "    }\n",
       "\n",
       "    .dataframe thead th {\n",
       "        text-align: right;\n",
       "    }\n",
       "</style>\n",
       "<table border=\"1\" class=\"dataframe\">\n",
       "  <thead>\n",
       "    <tr style=\"text-align: right;\">\n",
       "      <th></th>\n",
       "      <th>Review</th>\n",
       "    </tr>\n",
       "  </thead>\n",
       "  <tbody>\n",
       "    <tr>\n",
       "      <th>0</th>\n",
       "      <td>more comfort and unique in colour</td>\n",
       "    </tr>\n",
       "    <tr>\n",
       "      <th>1</th>\n",
       "      <td>In terms of quality the product is good, it is...</td>\n",
       "    </tr>\n",
       "    <tr>\n",
       "      <th>2</th>\n",
       "      <td>Nice fit and good quality shoes</td>\n",
       "    </tr>\n",
       "    <tr>\n",
       "      <th>3</th>\n",
       "      <td>The shoe has cool comfort from inside. Good to...</td>\n",
       "    </tr>\n",
       "    <tr>\n",
       "      <th>4</th>\n",
       "      <td>Usage:Worn for tough, everyday activities.Like...</td>\n",
       "    </tr>\n",
       "    <tr>\n",
       "      <th>5</th>\n",
       "      <td>Built quality good but inner side material is ...</td>\n",
       "    </tr>\n",
       "    <tr>\n",
       "      <th>6</th>\n",
       "      <td>Its a steal deal @1100 💥...Best in comfort, lo...</td>\n",
       "    </tr>\n",
       "    <tr>\n",
       "      <th>7</th>\n",
       "      <td>Not smooth as premium products like Nike and A...</td>\n",
       "    </tr>\n",
       "    <tr>\n",
       "      <th>8</th>\n",
       "      <td>It’s original and good quality but it is littl...</td>\n",
       "    </tr>\n",
       "    <tr>\n",
       "      <th>9</th>\n",
       "      <td>Mst</td>\n",
       "    </tr>\n",
       "  </tbody>\n",
       "</table>\n",
       "</div>"
      ],
      "text/plain": [
       "                                              Review\n",
       "0                  more comfort and unique in colour\n",
       "1  In terms of quality the product is good, it is...\n",
       "2                    Nice fit and good quality shoes\n",
       "3  The shoe has cool comfort from inside. Good to...\n",
       "4  Usage:Worn for tough, everyday activities.Like...\n",
       "5  Built quality good but inner side material is ...\n",
       "6  Its a steal deal @1100 💥...Best in comfort, lo...\n",
       "7  Not smooth as premium products like Nike and A...\n",
       "8  It’s original and good quality but it is littl...\n",
       "9                                                Mst"
      ]
     },
     "execution_count": 67,
     "metadata": {},
     "output_type": "execute_result"
    }
   ],
   "source": [
    "ws"
   ]
  },
  {
   "cell_type": "code",
   "execution_count": 68,
   "id": "624a4b82",
   "metadata": {},
   "outputs": [
    {
     "name": "stdout",
     "output_type": "stream",
     "text": [
      "Review: more comfort and unique in colour\n",
      "Predicted Label: 0\n",
      "------------------------\n",
      "Review: In terms of quality the product is good, it is stylish, and comfortable, good for winter season. But if you have foot size 28 cm then buy 8 number shoe... I hope this will be helpful.\n",
      "Predicted Label: 1\n",
      "------------------------\n",
      "Review: Nice fit and good quality shoes\n",
      "Predicted Label: 1\n",
      "------------------------\n",
      "Review: The shoe has cool comfort from inside. Good to use strong from outside. Mostly I like the comfort I'll buy one more.\n",
      "Predicted Label: 0\n",
      "------------------------\n",
      "Review: Usage:Worn for tough, everyday activities.Likes:Attractive design, particularly at a discounted price during a sale. Perceived durability. Rubber sole layer reduces skidding.Dislikes:Heavier than expected, despite being labeled as lightweight.Conclusion:These sneakers offer style and durability, especially with the added rubber sole layer for improved traction. However, they may not meet expectations for lightweight wear. Overall, a solid option for rugged use.\n",
      "Predicted Label: 0\n",
      "------------------------\n",
      "Review: Built quality good but inner side material is hard and painful for foot\n",
      "Predicted Label: 0\n",
      "------------------------\n",
      "Review: Its a steal deal @1100 💥...Best in comfort, look & style..Go for it..\n",
      "Predicted Label: 0\n",
      "------------------------\n",
      "Review: Not smooth as premium products like Nike and Addidas but overall feel and looks well. And value for money\n",
      "Predicted Label: 1\n",
      "------------------------\n",
      "Review: It’s original and good quality but it is little bit heavy\n",
      "Predicted Label: 0\n",
      "------------------------\n",
      "Review: Mst\n",
      "Predicted Label: 0\n",
      "------------------------\n"
     ]
    }
   ],
   "source": [
    "#PREDICTING FOR ENTIRE SCRAPPED REVIEWS:\n",
    "\n",
    "# Load the dataset\n",
    "data = pd.read_csv('amazon_reviews.csv')\n",
    "ws = data['Review']\n",
    "\n",
    "#Vectorizing data and predicting Spam/Non-Spam using Model:\n",
    "vectorized_data = vectorizer.transform(ws)\n",
    "predictions = rf_model.predict(vectorized_data)\n",
    "\n",
    "#Printing Predictions:\n",
    "for review, prediction in zip(ws, predictions):\n",
    "    print(f\"Review: {review}\")\n",
    "    print(f\"Predicted Label: {prediction}\")\n",
    "    print(\"------------------------\")\n"
   ]
  }
 ],
 "metadata": {
  "kernelspec": {
   "display_name": "Python 3 (ipykernel)",
   "language": "python",
   "name": "python3"
  },
  "language_info": {
   "codemirror_mode": {
    "name": "ipython",
    "version": 3
   },
   "file_extension": ".py",
   "mimetype": "text/x-python",
   "name": "python",
   "nbconvert_exporter": "python",
   "pygments_lexer": "ipython3",
   "version": "3.10.9"
  }
 },
 "nbformat": 4,
 "nbformat_minor": 5
}
