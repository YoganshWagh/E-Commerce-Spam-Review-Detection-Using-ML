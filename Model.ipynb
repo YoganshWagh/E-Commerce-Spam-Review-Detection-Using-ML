{
 "cells": [
  {
   "cell_type": "code",
   "execution_count": 20,
   "id": "b4cc5d33",
   "metadata": {},
   "outputs": [],
   "source": [
    "import pandas as pd\n",
    "from sklearn.model_selection import train_test_split\n",
    "from sklearn.feature_extraction.text import TfidfVectorizer\n",
    "from sklearn.ensemble import RandomForestClassifier\n",
    "from sklearn.metrics import accuracy_score, classification_report"
   ]
  },
  {
   "cell_type": "code",
   "execution_count": 21,
   "id": "bd36af91",
   "metadata": {},
   "outputs": [],
   "source": [
    "df = pd.read_csv('sdataset.csv')\n"
   ]
  },
  {
   "cell_type": "code",
   "execution_count": 22,
   "id": "b4dccfb4",
   "metadata": {},
   "outputs": [
    {
     "data": {
      "text/html": [
       "<div>\n",
       "<style scoped>\n",
       "    .dataframe tbody tr th:only-of-type {\n",
       "        vertical-align: middle;\n",
       "    }\n",
       "\n",
       "    .dataframe tbody tr th {\n",
       "        vertical-align: top;\n",
       "    }\n",
       "\n",
       "    .dataframe thead th {\n",
       "        text-align: right;\n",
       "    }\n",
       "</style>\n",
       "<table border=\"1\" class=\"dataframe\">\n",
       "  <thead>\n",
       "    <tr style=\"text-align: right;\">\n",
       "      <th></th>\n",
       "      <th>Unnamed: 0</th>\n",
       "      <th>category</th>\n",
       "      <th>rating</th>\n",
       "      <th>label</th>\n",
       "      <th>text_</th>\n",
       "    </tr>\n",
       "  </thead>\n",
       "  <tbody>\n",
       "    <tr>\n",
       "      <th>0</th>\n",
       "      <td>0</td>\n",
       "      <td>Home_and_Kitchen_5</td>\n",
       "      <td>5</td>\n",
       "      <td>NOT SPAM</td>\n",
       "      <td>love well made sturdi comfort i love veri pretti</td>\n",
       "    </tr>\n",
       "    <tr>\n",
       "      <th>1</th>\n",
       "      <td>1</td>\n",
       "      <td>Home_and_Kitchen_5</td>\n",
       "      <td>5</td>\n",
       "      <td>NOT SPAM</td>\n",
       "      <td>love great upgrad origin i 've mine coupl year</td>\n",
       "    </tr>\n",
       "    <tr>\n",
       "      <th>2</th>\n",
       "      <td>2</td>\n",
       "      <td>Home_and_Kitchen_5</td>\n",
       "      <td>5</td>\n",
       "      <td>NOT SPAM</td>\n",
       "      <td>thi pillow save back i love look feel pillow</td>\n",
       "    </tr>\n",
       "    <tr>\n",
       "      <th>3</th>\n",
       "      <td>3</td>\n",
       "      <td>Home_and_Kitchen_5</td>\n",
       "      <td>1</td>\n",
       "      <td>NOT SPAM</td>\n",
       "      <td>miss inform use great product price i</td>\n",
       "    </tr>\n",
       "    <tr>\n",
       "      <th>4</th>\n",
       "      <td>4</td>\n",
       "      <td>Home_and_Kitchen_5</td>\n",
       "      <td>5</td>\n",
       "      <td>NOT SPAM</td>\n",
       "      <td>veri nice set good qualiti we set two month</td>\n",
       "    </tr>\n",
       "    <tr>\n",
       "      <th>...</th>\n",
       "      <td>...</td>\n",
       "      <td>...</td>\n",
       "      <td>...</td>\n",
       "      <td>...</td>\n",
       "      <td>...</td>\n",
       "    </tr>\n",
       "    <tr>\n",
       "      <th>40427</th>\n",
       "      <td>40427</td>\n",
       "      <td>Clothing_Shoes_and_Jewelry_5</td>\n",
       "      <td>4</td>\n",
       "      <td>SPAM</td>\n",
       "      <td>i read review say bra ran small i order two ba...</td>\n",
       "    </tr>\n",
       "    <tr>\n",
       "      <th>40428</th>\n",
       "      <td>40428</td>\n",
       "      <td>Clothing_Shoes_and_Jewelry_5</td>\n",
       "      <td>5</td>\n",
       "      <td>NOT SPAM</td>\n",
       "      <td>i n't sure exactli would it littl larg small s...</td>\n",
       "    </tr>\n",
       "    <tr>\n",
       "      <th>40429</th>\n",
       "      <td>40429</td>\n",
       "      <td>Clothing_Shoes_and_Jewelry_5</td>\n",
       "      <td>2</td>\n",
       "      <td>SPAM</td>\n",
       "      <td>you wear hood wear hood wear jacket without ho...</td>\n",
       "    </tr>\n",
       "    <tr>\n",
       "      <th>40430</th>\n",
       "      <td>40430</td>\n",
       "      <td>Clothing_Shoes_and_Jewelry_5</td>\n",
       "      <td>1</td>\n",
       "      <td>NOT SPAM</td>\n",
       "      <td>i like noth dress the reason i gave star i ord...</td>\n",
       "    </tr>\n",
       "    <tr>\n",
       "      <th>40431</th>\n",
       "      <td>40431</td>\n",
       "      <td>Clothing_Shoes_and_Jewelry_5</td>\n",
       "      <td>5</td>\n",
       "      <td>SPAM</td>\n",
       "      <td>i work wed industri work long day foot outsid ...</td>\n",
       "    </tr>\n",
       "  </tbody>\n",
       "</table>\n",
       "<p>40432 rows × 5 columns</p>\n",
       "</div>"
      ],
      "text/plain": [
       "       Unnamed: 0                      category  rating     label  \\\n",
       "0               0            Home_and_Kitchen_5       5  NOT SPAM   \n",
       "1               1            Home_and_Kitchen_5       5  NOT SPAM   \n",
       "2               2            Home_and_Kitchen_5       5  NOT SPAM   \n",
       "3               3            Home_and_Kitchen_5       1  NOT SPAM   \n",
       "4               4            Home_and_Kitchen_5       5  NOT SPAM   \n",
       "...           ...                           ...     ...       ...   \n",
       "40427       40427  Clothing_Shoes_and_Jewelry_5       4      SPAM   \n",
       "40428       40428  Clothing_Shoes_and_Jewelry_5       5  NOT SPAM   \n",
       "40429       40429  Clothing_Shoes_and_Jewelry_5       2      SPAM   \n",
       "40430       40430  Clothing_Shoes_and_Jewelry_5       1  NOT SPAM   \n",
       "40431       40431  Clothing_Shoes_and_Jewelry_5       5      SPAM   \n",
       "\n",
       "                                                   text_  \n",
       "0       love well made sturdi comfort i love veri pretti  \n",
       "1         love great upgrad origin i 've mine coupl year  \n",
       "2           thi pillow save back i love look feel pillow  \n",
       "3                  miss inform use great product price i  \n",
       "4            veri nice set good qualiti we set two month  \n",
       "...                                                  ...  \n",
       "40427  i read review say bra ran small i order two ba...  \n",
       "40428  i n't sure exactli would it littl larg small s...  \n",
       "40429  you wear hood wear hood wear jacket without ho...  \n",
       "40430  i like noth dress the reason i gave star i ord...  \n",
       "40431  i work wed industri work long day foot outsid ...  \n",
       "\n",
       "[40432 rows x 5 columns]"
      ]
     },
     "execution_count": 22,
     "metadata": {},
     "output_type": "execute_result"
    }
   ],
   "source": [
    "df"
   ]
  },
  {
   "cell_type": "code",
   "execution_count": 23,
   "id": "6026beeb",
   "metadata": {},
   "outputs": [],
   "source": [
    "df = df.dropna(subset=['text_', 'label'])"
   ]
  },
  {
   "cell_type": "code",
   "execution_count": 24,
   "id": "e1dcbbfd",
   "metadata": {},
   "outputs": [],
   "source": [
    "X = df['text_']\n",
    "y = df['label']"
   ]
  },
  {
   "cell_type": "code",
   "execution_count": 25,
   "id": "d78d8bdb",
   "metadata": {},
   "outputs": [],
   "source": [
    "X_train, X_test, y_train, y_test = train_test_split(X, y, test_size=0.2, random_state=42)\n"
   ]
  },
  {
   "cell_type": "code",
   "execution_count": 26,
   "id": "5d378b2d",
   "metadata": {},
   "outputs": [],
   "source": [
    "vectorizer = TfidfVectorizer(max_features=5000, stop_words='english')\n",
    "X_train_tfidf = vectorizer.fit_transform(X_train)\n",
    "X_test_tfidf = vectorizer.transform(X_test)"
   ]
  },
  {
   "cell_type": "code",
   "execution_count": 27,
   "id": "c942986a",
   "metadata": {},
   "outputs": [],
   "source": [
    "X_train, X_test, y_train, y_test = train_test_split(X, y, test_size=0.2, random_state=42)\n"
   ]
  },
  {
   "cell_type": "code",
   "execution_count": 28,
   "id": "90fbcf4e",
   "metadata": {},
   "outputs": [],
   "source": [
    "vectorizer = TfidfVectorizer(max_features=5000, stop_words='english')"
   ]
  },
  {
   "cell_type": "code",
   "execution_count": 29,
   "id": "c95e1cbf",
   "metadata": {},
   "outputs": [],
   "source": [
    "X_train_tfidf = vectorizer.fit_transform(X_train)"
   ]
  },
  {
   "cell_type": "code",
   "execution_count": 30,
   "id": "1ab84650",
   "metadata": {},
   "outputs": [],
   "source": [
    "X_test_tfidf = vectorizer.transform(X_test)\n"
   ]
  },
  {
   "cell_type": "code",
   "execution_count": 31,
   "id": "78ec3d17",
   "metadata": {},
   "outputs": [],
   "source": [
    "rf_model = RandomForestClassifier(n_estimators=100, random_state=42)"
   ]
  },
  {
   "cell_type": "code",
   "execution_count": 32,
   "id": "97bcee51",
   "metadata": {},
   "outputs": [
    {
     "data": {
      "text/plain": [
       "RandomForestClassifier(random_state=42)"
      ]
     },
     "execution_count": 32,
     "metadata": {},
     "output_type": "execute_result"
    }
   ],
   "source": [
    "rf_model.fit(X_train_tfidf, y_train)"
   ]
  },
  {
   "cell_type": "code",
   "execution_count": 33,
   "id": "39882eea",
   "metadata": {},
   "outputs": [],
   "source": [
    "y_pred = rf_model.predict(X_test_tfidf)"
   ]
  },
  {
   "cell_type": "code",
   "execution_count": 34,
   "id": "8cc5f472",
   "metadata": {},
   "outputs": [],
   "source": [
    "accuracy = accuracy_score(y_test, y_pred)\n",
    "report = classification_report(y_test, y_pred)\n"
   ]
  },
  {
   "cell_type": "code",
   "execution_count": 35,
   "id": "9a0b81c1",
   "metadata": {},
   "outputs": [
    {
     "name": "stdout",
     "output_type": "stream",
     "text": [
      "Accuracy: 0.8350438976134537\n",
      "Classification Report:\n",
      "               precision    recall  f1-score   support\n",
      "\n",
      "    NOT SPAM       0.81      0.87      0.84      4018\n",
      "        SPAM       0.86      0.80      0.83      4069\n",
      "\n",
      "    accuracy                           0.84      8087\n",
      "   macro avg       0.84      0.84      0.83      8087\n",
      "weighted avg       0.84      0.84      0.83      8087\n",
      "\n"
     ]
    }
   ],
   "source": [
    "print(f\"Accuracy: {accuracy}\")\n",
    "print(\"Classification Report:\\n\", report)"
   ]
  },
  {
   "cell_type": "code",
   "execution_count": 36,
   "id": "052a6506",
   "metadata": {},
   "outputs": [
    {
     "name": "stdout",
     "output_type": "stream",
     "text": [
      "Review: order place special photo wall we 've coupl week\n",
      "Predicted Label: NOT SPAM\n",
      "------------------------\n",
      "Review: easi review the kid dd love thank\n",
      "Predicted Label: SPAM\n",
      "------------------------\n"
     ]
    }
   ],
   "source": [
    "new_data = [\"order place special photo wall we 've coupl week\",\"easi review the kid dd love thank\"]\n",
    "new_data_tfidf = vectorizer.transform(new_data)\n",
    "new_predictions = rf_model.predict(new_data_tfidf)\n",
    "for review, prediction in zip(new_data, new_predictions):\n",
    "    print(f\"Review: {review}\")\n",
    "    print(f\"Predicted Label: {prediction}\")\n",
    "    print(\"------------------------\")"
   ]
  },
  {
   "cell_type": "code",
   "execution_count": 37,
   "id": "28bd9929",
   "metadata": {},
   "outputs": [
    {
     "name": "stdout",
     "output_type": "stream",
     "text": [
      "Review: This is a very good.\n",
      "Predicted Label: SPAM\n",
      "------------------------\n",
      "Review: babi like thermal insul help keep food warmer the thermal insul help keep.\n",
      "Predicted Label: NOT SPAM\n",
      "------------------------\n",
      "Review: Great experience!\n",
      "Predicted Label: SPAM\n",
      "------------------------\n"
     ]
    }
   ],
   "source": [
    "# Assuming 'new_data' is a list of new text reviews\n",
    "new_data = [\"This is a very good.\", \"babi like thermal insul help keep food warmer the thermal insul help keep.\", \"Great experience!\"]\n",
    "\n",
    "# Transform the new data using the same TfidfVectorizer\n",
    "new_data_tfidf = vectorizer.transform(new_data)\n",
    "\n",
    "# Make predictions on the new data\n",
    "new_predictions = rf_model.predict(new_data_tfidf)\n",
    "\n",
    "# Display the predictions\n",
    "for review, prediction in zip(new_data, new_predictions):\n",
    "    print(f\"Review: {review}\")\n",
    "    print(f\"Predicted Label: {prediction}\")\n",
    "    print(\"------------------------\")\n"
   ]
  },
  {
   "cell_type": "code",
   "execution_count": 50,
   "id": "573f0ae1",
   "metadata": {},
   "outputs": [
    {
     "name": "stdout",
     "output_type": "stream",
     "text": [
      "Review: product is very bad|\n",
      "Predicted Label: SPAM\n",
      "------------------------\n",
      "Review: very costly\n",
      "Predicted Label: SPAM\n",
      "------------------------\n",
      "Review: love product\n",
      "Predicted Label: NOT SPAM\n",
      "------------------------\n",
      "Review: bad product\n",
      "Predicted Label: SPAM\n",
      "------------------------\n",
      "Review: worst experience\n",
      "Predicted Label: SPAM\n",
      "------------------------\n",
      "Review: amazing product\n",
      "Predicted Label: NOT SPAM\n",
      "------------------------\n",
      "Review: very useful love it\n",
      "Predicted Label: NOT SPAM\n",
      "------------------------\n",
      "Review: did'nt like product\n",
      "Predicted Label: SPAM\n",
      "------------------------\n",
      "Review: not working\n",
      "Predicted Label: SPAM\n",
      "------------------------\n"
     ]
    }
   ],
   "source": [
    "new_data = [\"product is very bad|\",\"very costly\",\"love product\",\"bad product\",\"worst experience\",\"amazing product\",\"very useful love it\",\"did'nt like product\",\"not working\"]\n",
    "new_data_tfidf = vectorizer.transform(new_data)\n",
    "new_predictions = rf_model.predict(new_data_tfidf)\n",
    "for review, prediction in zip(new_data, new_predictions):\n",
    "    print(f\"Review: {review}\")\n",
    "    print(f\"Predicted Label: {prediction}\")\n",
    "    print(\"------------------------\")"
   ]
  },
  {
   "cell_type": "code",
   "execution_count": null,
   "id": "86b3779d",
   "metadata": {},
   "outputs": [],
   "source": []
  }
 ],
 "metadata": {
  "kernelspec": {
   "display_name": "Python 3 (ipykernel)",
   "language": "python",
   "name": "python3"
  },
  "language_info": {
   "codemirror_mode": {
    "name": "ipython",
    "version": 3
   },
   "file_extension": ".py",
   "mimetype": "text/x-python",
   "name": "python",
   "nbconvert_exporter": "python",
   "pygments_lexer": "ipython3",
   "version": "3.9.13"
  }
 },
 "nbformat": 4,
 "nbformat_minor": 5
}
